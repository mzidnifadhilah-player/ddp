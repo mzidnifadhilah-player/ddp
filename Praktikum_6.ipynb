{
  "nbformat": 4,
  "nbformat_minor": 0,
  "metadata": {
    "colab": {
      "provenance": [],
      "authorship_tag": "ABX9TyNAiw86W0tTPF8InvVpPGnx",
      "include_colab_link": true
    },
    "kernelspec": {
      "name": "python3",
      "display_name": "Python 3"
    },
    "language_info": {
      "name": "python"
    }
  },
  "cells": [
    {
      "cell_type": "markdown",
      "metadata": {
        "id": "view-in-github",
        "colab_type": "text"
      },
      "source": [
        "<a href=\"https://colab.research.google.com/github/mzidnifadhilah-player/ddp/blob/main/Praktikum_6.ipynb\" target=\"_parent\"><img src=\"https://colab.research.google.com/assets/colab-badge.svg\" alt=\"Open In Colab\"/></a>"
      ]
    },
    {
      "cell_type": "code",
      "execution_count": 3,
      "metadata": {
        "colab": {
          "base_uri": "https://localhost:8080/"
        },
        "id": "z0R48xQa6NeI",
        "outputId": "031a9f53-a3c0-4b99-fb68-6ee28942d0e4"
      },
      "outputs": [
        {
          "output_type": "stream",
          "name": "stdout",
          "text": [
            "951\n",
            "651\n",
            "69\n",
            "319\n",
            "601\n",
            "485\n",
            "507\n",
            "725\n",
            "547\n",
            "615\n",
            "83\n",
            "165\n",
            "141\n",
            "501\n",
            "263\n",
            "617\n",
            "865\n",
            "575\n",
            "219\n",
            "105\n",
            "941\n",
            "47\n",
            "907\n",
            "375\n",
            "823\n",
            "597\n",
            "615\n",
            "953\n",
            "345\n",
            "399\n",
            "219\n",
            "237\n",
            "949\n",
            "687\n",
            "217\n",
            "815\n",
            "67\n",
            "767\n"
          ]
        }
      ],
      "source": [
        "#print semua bilangan ganjil dari list berikut\n",
        "#hentikan perulangan ketika sudah melewati bilangan 553.\n",
        "\n",
        "#[] = data list\n",
        "#{} = data dictionary\n",
        "numbers = [\n",
        " 951, 402, 984, 651, 360, 69, 408, 319, 601, 485, 980, 507, 725, 547, 544,\n",
        " 615, 83, 165, 141, 501, 263, 617, 865, 575, 219, 390, 984, 592, 236, 105,\n",
        " 942, 941,  386, 462, 47, 418, 907, 344, 236, 375, 823, 566, 597, 978, 328,\n",
        " 615, 953, 345,  399, 162, 758, 219, 918, 237, 412, 566, 826, 248, 866, 950,\n",
        " 626, 949, 687, 217, 815, 67, 104, 58, 512, 24, 892, 894, 767, 553, 81, 379,\n",
        " 843, 831, 445, 742, 717, 958, 609, 842, 451, 688, 753, 854, 685, 93, 857, 440,\n",
        " 380, 126, 721, 328, 753, 470, 743, 527\n",
        "]\n",
        "\n",
        "index=0\n",
        "while index <= len(numbers):\n",
        " if numbers [index] == 553: #kondisi untuk mencari index 553\n",
        "    break\n",
        " if numbers[index] %2 ==1: #kondisi untuk mencetak nilai ganjil\n",
        "    print (numbers [index])\n",
        " index += 1"
      ]
    },
    {
      "cell_type": "code",
      "source": [
        "#Buat lah output dari menggunakan bahasa pemprograman python dengan :\n",
        "#1 + 3 + 5 + 7 +9 +11 +13 + 15 +17 +19 = ….\n",
        "\n",
        "jumlah=0 #variabel untuk menyimpan nilai\n",
        "string = \"\" #untuk membaca tanda +\n",
        "\n",
        "bilangan = 1\n",
        "while bilangan <=19 : #untuk melakukan perulangan sebanyak 19x\n",
        "  jumlah += bilangan\n",
        "  string += str(bilangan)\n",
        "  if bilangan < 19:\n",
        "      string +='+'\n",
        "  bilangan += 2\n",
        "print (string, '=', jumlah)"
      ],
      "metadata": {
        "colab": {
          "base_uri": "https://localhost:8080/"
        },
        "id": "8ITocFiY8w0z",
        "outputId": "aaa94335-cd41-4f67-b009-facf342fc4e6"
      },
      "execution_count": 15,
      "outputs": [
        {
          "output_type": "stream",
          "name": "stdout",
          "text": [
            "1+3+5+7+9+11+13+15+17+19 = 100\n"
          ]
        }
      ]
    },
    {
      "cell_type": "code",
      "source": [
        "baris = int(input ('masukan angka'))\n",
        "for i in range (1, baris + 1) :\n",
        "  print ('*' * i)"
      ],
      "metadata": {
        "colab": {
          "base_uri": "https://localhost:8080/"
        },
        "id": "Lj7sBfk3Fymi",
        "outputId": "9fdb44a1-23ba-48a4-8c0f-dd296f985943"
      },
      "execution_count": 19,
      "outputs": [
        {
          "output_type": "stream",
          "name": "stdout",
          "text": [
            "masukan angka5\n",
            "*\n",
            "**\n",
            "***\n",
            "****\n",
            "*****\n"
          ]
        }
      ]
    }
  ]
}
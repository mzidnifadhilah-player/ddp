{
  "nbformat": 4,
  "nbformat_minor": 0,
  "metadata": {
    "colab": {
      "provenance": [],
      "authorship_tag": "ABX9TyOEEy37RsVeV2m7BWRqYiZ9",
      "include_colab_link": true
    },
    "kernelspec": {
      "name": "python3",
      "display_name": "Python 3"
    },
    "language_info": {
      "name": "python"
    }
  },
  "cells": [
    {
      "cell_type": "markdown",
      "metadata": {
        "id": "view-in-github",
        "colab_type": "text"
      },
      "source": [
        "<a href=\"https://colab.research.google.com/github/mzidnifadhilah-player/ddp/blob/main/Praktikum_5.ipynb\" target=\"_parent\"><img src=\"https://colab.research.google.com/assets/colab-badge.svg\" alt=\"Open In Colab\"/></a>"
      ]
    },
    {
      "cell_type": "code",
      "execution_count": 4,
      "metadata": {
        "colab": {
          "base_uri": "https://localhost:8080/"
        },
        "id": "NyzMXHO7w0RD",
        "outputId": "27739004-5bb7-4d73-bd0a-fb902037860d"
      },
      "outputs": [
        {
          "output_type": "stream",
          "name": "stdout",
          "text": [
            "['Beat Ember', 'motor', 200, 'hitam', 2]\n",
            "['Beat Ember', 'motor', 200, 'hitam', 2, 5000, 'metic']\n",
            "['Beat Ember', 'motor', 'Honda', 200, 'hitam', 2, 5000, 'metic']\n"
          ]
        }
      ],
      "source": [
        "namakendaraan = \"Beat Ember\"\n",
        "jeniskendaraan = \"motor\"\n",
        "cckendaraan = 200\n",
        "warnakendaraan = \"hitam\"\n",
        "rodakendaraan = 2\n",
        "\n",
        "data_kendaraan = [namakendaraan, jeniskendaraan, cckendaraan, warnakendaraan, rodakendaraan]\n",
        "print(data_kendaraan)\n",
        "\n",
        "hargakendaraan = 5000\n",
        "tipekendaraan = \"metic\"\n",
        "data_kendaraan.append(hargakendaraan)\n",
        "data_kendaraan.append(tipekendaraan)\n",
        "print (data_kendaraan)\n",
        "\n",
        "merkkendaraan = \"Honda\"\n",
        "data_kendaraan.insert(2, merkkendaraan)\n",
        "print (data_kendaraan)"
      ]
    },
    {
      "cell_type": "code",
      "source": [
        "pilihan = input (\"\"\"\n",
        "Silahkan pilih menu yang diinginkan\n",
        "===================================\n",
        "1. Luas Persegi\n",
        "2. Luas Lingkaran\n",
        "3. Luas Segitiga\n",
        "===================================\n",
        "Kirimkan hanya angka saja,\n",
        "Jawaban =\n",
        "\"\"\")\n",
        "\n",
        "match pilihan:\n",
        " case \"1\":\n",
        "    print (\"anda memilih pilihan persegi maka anda harus mengisi\")\n",
        "    sisi = int(input (\"sisi = \"))\n",
        "    luas = sisi*sisi\n",
        "\n",
        "    print (f\" luas persegi dengan sisi {sisi} adalah {luas}\")\n",
        "    #luas persegi\n",
        " case \"2\":\n",
        "    print (\"anda memilih pilihan lingkaran maka anda harus mengisi\")\n",
        "    jarijari = int(input (\"jarijari = \"))\n",
        "    luas = 3.14*jarijari**2\n",
        "\n",
        "    print (f\" luas lingkaran dengan jarijari {jarijari} adalah {luas}\")\n",
        "    #luas lingkaran\n",
        "    #phi*jarijari**2\n",
        " case \"3\":\n",
        "    print (\"anda memilih pilihan segitiga maka anda harus mengisi\")\n",
        "    alas = int(input (\"alas = \"))\n",
        "    tinggi = int(input (\"tinggi = \"))\n",
        "    luas = (alas*tinggi)/2\n",
        "    #luas segitiga\n",
        "    #(alas*tinggi)/2\n",
        "    print (f\" luas segitiga dengan alas {alas} dan tinggi {tinggi} adalah {luas}\")\n",
        " case _:\n",
        "    print (\" Gak ada\")"
      ],
      "metadata": {
        "colab": {
          "base_uri": "https://localhost:8080/"
        },
        "id": "M_ILaGh99RRG",
        "outputId": "d9983f2e-ca1d-4dd2-c6a7-eabf523b0401"
      },
      "execution_count": 11,
      "outputs": [
        {
          "output_type": "stream",
          "name": "stdout",
          "text": [
            "\n",
            "Silahkan pilih menu yang diinginkan\n",
            "===================================\n",
            "1. Luas Persegi\n",
            "2. Luas Lingkaran\n",
            "3. Luas Segitiga\n",
            "===================================\n",
            "Kirimkan hanya angka saja, \n",
            "Jawaban =\n",
            "4\n",
            " Gak ada\n"
          ]
        }
      ]
    }
  ]
}